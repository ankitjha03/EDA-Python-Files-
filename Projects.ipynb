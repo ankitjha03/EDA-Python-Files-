{
 "cells": [
  {
   "cell_type": "markdown",
   "metadata": {},
   "source": [
    "# Acronym of word\n"
   ]
  },
  {
   "cell_type": "code",
   "execution_count": 1,
   "metadata": {},
   "outputs": [
    {
     "name": "stdout",
     "output_type": "stream",
     "text": [
      "Please Enter the wordHello vro\n",
      " HV\n"
     ]
    }
   ],
   "source": [
    "user = str(input(\"Please Enter the word\"))\n",
    "text = user.split()\n",
    "a =\" \"\n",
    "for i in text:\n",
    "    a =a+ str(i[0]).upper()\n",
    "print(a)"
   ]
  },
  {
   "cell_type": "markdown",
   "metadata": {},
   "source": [
    "# Email Slicing "
   ]
  },
  {
   "cell_type": "code",
   "execution_count": 1,
   "metadata": {},
   "outputs": [
    {
     "name": "stdout",
     "output_type": "stream",
     "text": [
      "Enter the emailankitkumar656@gmail.com\n",
      "Your user name is ankitkumar656 and your domain is gmail.com\n"
     ]
    }
   ],
   "source": [
    "email = input(\"Enter the email\").strip()\n",
    "username = email[:email.index('@')]\n",
    "domain_name  = email[email.index('@')+1:]\n",
    "format =(\"Your user name is {} and your domain is {}\".format(username,domain_name))\n",
    "print(format)"
   ]
  },
  {
   "cell_type": "markdown",
   "metadata": {},
   "source": [
    "# another email slicing option\n"
   ]
  },
  {
   "cell_type": "code",
   "execution_count": 1,
   "metadata": {},
   "outputs": [
    {
     "name": "stdout",
     "output_type": "stream",
     "text": [
      "Enter the emai addressankitjha@gmail.com\n",
      "username  :  ankitjha\n",
      "Doain name :  gmail.com\n"
     ]
    }
   ],
   "source": [
    "email = input(\"Enter the emai address\")\n",
    "gg= email.split('@')\n",
    "print(\"username  : \",gg[0])\n",
    "print(\"Doain name : \",gg[1])"
   ]
  },
  {
   "cell_type": "markdown",
   "metadata": {},
   "source": [
    "# Stroy Generator"
   ]
  },
  {
   "cell_type": "code",
   "execution_count": 3,
   "metadata": {},
   "outputs": [
    {
     "name": "stdout",
     "output_type": "stream",
     "text": [
      "On 20th Jan, a turtle that lived in Germany, went to the school and found a secret key\n"
     ]
    }
   ],
   "source": [
    "import random\n",
    "when = ['A few years ago', 'Yesterday', 'Last night', 'A long time ago','On 20th Jan']\n",
    "who = ['a rabbit', 'an elephant', 'a mouse', 'a turtle','a cat']\n",
    "name = ['Ali', 'Miriam','daniel', 'Hoouk', 'Starwalker']\n",
    "residence = ['Barcelona','India', 'Germany', 'Venice', 'England']\n",
    "went = ['cinema', 'university','seminar', 'school', 'laundry']\n",
    "happened = ['made a lot of friends','Eats a burger', 'found a secret key', 'solved a mistery', 'wrote a book']\n",
    "print(random.choice(when) + ', ' + random.choice(who) + ' that lived in ' + random.choice(residence) + ', went to the ' + random.choice(went) + ' and ' + random.choice(happened))\n"
   ]
  },
  {
   "cell_type": "markdown",
   "metadata": {},
   "source": [
    "# Password Generator"
   ]
  },
  {
   "cell_type": "code",
   "execution_count": 4,
   "metadata": {},
   "outputs": [
    {
     "name": "stdout",
     "output_type": "stream",
     "text": [
      "What will be the length of password5\n",
      "csj14\n"
     ]
    }
   ],
   "source": [
    "import random\n",
    "len = int(input(\"What will be the length of password\"))\n",
    "s = 'dhbsdhfbjsicfjjk@1467953'\n",
    "a = \"\".join(random.sample(s,len))\n",
    "print(a)"
   ]
  },
  {
   "cell_type": "markdown",
   "metadata": {},
   "source": [
    "# Rock paper sccisor"
   ]
  },
  {
   "cell_type": "code",
   "execution_count": null,
   "metadata": {},
   "outputs": [
    {
     "name": "stdout",
     "output_type": "stream",
     "text": [
      "Rock,paper or Scissor ?Rock\n",
      "You lose, Computer won \n"
     ]
    }
   ],
   "source": [
    "import random\n",
    "choices = ['Rock','paper','Scissor']\n",
    "computer = random.choice(choices)\n",
    "player = False\n",
    "cpu_score = 0\n",
    "player_score = 0\n",
    "while True:\n",
    "    player = input(\"Rock,paper or Scissor ?\").capitalize()\n",
    "    if player == computer:\n",
    "        print(\"oof Tied \")\n",
    "    elif player == \"Rock\":\n",
    "        if computer == \"paper\":\n",
    "            print(\"You lose, Computer won \")\n",
    "            cpu_score+=1\n",
    "        else:\n",
    "            print(\"Congo YOU WIN \")\n",
    "            player_score+=1\n",
    "    elif player == \"paper\":\n",
    "        if computer == \"Scissor\":\n",
    "            print(\"You Lose, Computer won  \")\n",
    "            cpu_score+=1\n",
    "        else:\n",
    "            print(\"Congo YOU WIN\")\n",
    "    elif player == \"Scissor\":\n",
    "        if computer ==\"Rock\":\n",
    "            print(\"YOu lose, Comuter won\")\n",
    "            cpu_score+=1\n",
    "        else:\n",
    "            print(\"Congo YOU WIN\")\n",
    "            player_score+=1\n",
    "    elif player == 'End':\n",
    "        print(\"Final Scores : \")\n",
    "        print(\"CPU SCORE : \",cpu_score)\n",
    "        print(\"PLAYER SCORE :\",player_score)\n",
    "        break\n",
    "        \n",
    "        \n",
    "    \n",
    "    "
   ]
  },
  {
   "cell_type": "markdown",
   "metadata": {},
   "source": [
    "# Number Guessing Game"
   ]
  },
  {
   "cell_type": "code",
   "execution_count": null,
   "metadata": {},
   "outputs": [],
   "source": [
    "import random\n",
    "num = random.randrange(1,100)\n",
    "guess = int(input(\"Enter any number between 1 and 100\"))\n",
    "while num!=guess:\n",
    "    if guess<num:\n",
    "        print(\"Too Low\")\n",
    "        guess = int(input(\"try again\"))\n",
    "    elif guess>num:\n",
    "        print(\"Too High\")\n",
    "        guess = int(input(\"try again\"))\n",
    "    else:\n",
    "        break\n",
    "print(\"Congrats You have guessed the right number\")\n",
    "\n",
    "        "
   ]
  },
  {
   "cell_type": "markdown",
   "metadata": {},
   "source": [
    "# Print coloured Texts "
   ]
  },
  {
   "cell_type": "code",
   "execution_count": 10,
   "metadata": {},
   "outputs": [
    {
     "name": "stdout",
     "output_type": "stream",
     "text": [
      "Hi i am ankitNew code project\n",
      "bnjsndjsn\n",
      "sbhbccbsjn\n"
     ]
    }
   ],
   "source": [
    "import colorama\n",
    "from colorama import Fore , Back, Style\n",
    "colorama.init(autoreset= True)\n",
    "\n",
    "print(Fore.BLUE+ Back.YELLOW + \"Hi i am ankit\"  +   Fore.YELLOW + Back.BLUE + \"New code project\" )\n",
    "print(Back.CYAN +\"bnjsndjsn\")\n",
    "print(Fore.RED +Back.GREEN + \"sbhbccbsjn\")"
   ]
  },
  {
   "cell_type": "code",
   "execution_count": 1,
   "metadata": {},
   "outputs": [],
   "source": [
    "#IN JUPYTER NOT SHOWING \n"
   ]
  },
  {
   "cell_type": "code",
   "execution_count": 3,
   "metadata": {},
   "outputs": [
    {
     "name": "stdout",
     "output_type": "stream",
     "text": [
      "Collecting qrcode\n",
      "  Downloading qrcode-7.2.tar.gz (43 kB)\n",
      "Requirement already satisfied: colorama in c:\\users\\ankit\\anaconda3\\lib\\site-packages (from qrcode) (0.4.3)\n",
      "Building wheels for collected packages: qrcode\n",
      "  Building wheel for qrcode (setup.py): started\n",
      "  Building wheel for qrcode (setup.py): finished with status 'done'\n",
      "  Created wheel for qrcode: filename=qrcode-7.2-py3-none-any.whl size=39923 sha256=12406aab840dda541cfb3521a223452a0075c7ae971755d30a83a8b250791449\n",
      "  Stored in directory: c:\\users\\ankit\\appdata\\local\\pip\\cache\\wheels\\49\\64\\0c\\d6ee976d65c5cafbf64766412668e2caa224f6d5a76035ab77\n",
      "Successfully built qrcode\n",
      "Installing collected packages: qrcode\n",
      "Successfully installed qrcode-7.2\n",
      "Note: you may need to restart the kernel to use updated packages.\n"
     ]
    }
   ],
   "source": [
    "pip install qrcode"
   ]
  },
  {
   "cell_type": "code",
   "execution_count": 1,
   "metadata": {},
   "outputs": [],
   "source": [
    "import qrcode \n",
    "img = qrcode.make(\"India is a country of many religion. I love India\")\n",
    "img.save(\"dsjn.jpg\")"
   ]
  },
  {
   "cell_type": "code",
   "execution_count": 3,
   "metadata": {},
   "outputs": [],
   "source": [
    "image = qrcode.make(\"madarchod dit \")\n",
    "image.save(\"dit.jpg\")"
   ]
  },
  {
   "cell_type": "code",
   "execution_count": 3,
   "metadata": {},
   "outputs": [
    {
     "name": "stdout",
     "output_type": "stream",
     "text": [
      "Enter a alphabetv\n",
      "The alphabet is consonant\n"
     ]
    }
   ],
   "source": [
    "y = input(\"Enter a alphabet\")\n",
    "if(y =='a'or y == \"e\" or y == 'i' or y == 'o' or y== 'u'):\n",
    "    print(\"THE ALPHABET IS VOWEL\")\n",
    "else:\n",
    "    print(\"The alphabet is consonant\")"
   ]
  },
  {
   "cell_type": "code",
   "execution_count": 6,
   "metadata": {},
   "outputs": [
    {
     "name": "stdout",
     "output_type": "stream",
     "text": [
      "Enter the number of sides5\n",
      "The shape is called : PENTAGON\n"
     ]
    }
   ],
   "source": [
    "sides = int(input(\"Enter the number of sides\"))\n",
    "if sides == 1:\n",
    "    print(\"The shae is called : MONOGON\")\n",
    "elif sides == 2:\n",
    "    print(\"The shape is called : DIGON\")\n",
    "elif sides == 3:\n",
    "    print(\"The shape is called : TRIANGLE\")\n",
    "elif sides == 4:\n",
    "    print(\"The shape is called : QUADRILATERAL\")\n",
    "elif sides == 5:\n",
    "    print(\"The shape is called : PENTAGON\")\n",
    "elif sides == 6:\n",
    "    print(\"The shape is called : HEXGON\")\n",
    "elif sides == 7:\n",
    "    print(\"The shape is called : SEPTAGON\")\n",
    "elif sides == 8:\n",
    "    print(\"The shape is called : OCTAGON\")\n",
    "elif sides == 9:\n",
    "    print(\"The shape is called : NONAGON\")\n",
    "elif sides == 10:\n",
    "    print(\"The shape is called : DECAGON\")\n",
    "else:\n",
    "    print(\"INVALID INPUT\")\n",
    "\n",
    "    \n",
    "    "
   ]
  },
  {
   "cell_type": "code",
   "execution_count": 1,
   "metadata": {},
   "outputs": [
    {
     "name": "stdout",
     "output_type": "stream",
     "text": [
      "Collecting pyscreenshot\n",
      "  Downloading pyscreenshot-3.0-py3-none-any.whl (27 kB)\n",
      "Collecting mss; python_version > \"3.4\"\n",
      "  Downloading mss-6.1.0-py3-none-any.whl (76 kB)\n",
      "Collecting EasyProcess\n",
      "  Downloading EasyProcess-0.3-py2.py3-none-any.whl (7.9 kB)\n",
      "Collecting entrypoint2\n",
      "  Downloading entrypoint2-0.2.4-py3-none-any.whl (6.2 kB)\n",
      "Installing collected packages: mss, EasyProcess, entrypoint2, pyscreenshot\n",
      "Successfully installed EasyProcess-0.3 entrypoint2-0.2.4 mss-6.1.0 pyscreenshot-3.0\n",
      "Note: you may need to restart the kernel to use updated packages.\n"
     ]
    }
   ],
   "source": [
    "pip install pyscreenshot"
   ]
  },
  {
   "cell_type": "code",
   "execution_count": 4,
   "metadata": {},
   "outputs": [],
   "source": [
    "import pyscreenshot\n",
    "image = pyscreenshot.grab()\n",
    "image.show()\n",
    "image.save(\"Ankit.png\")"
   ]
  },
  {
   "cell_type": "code",
   "execution_count": 2,
   "metadata": {},
   "outputs": [
    {
     "data": {
      "text/plain": [
       "'helloworld'"
      ]
     },
     "execution_count": 2,
     "metadata": {},
     "output_type": "execute_result"
    }
   ],
   "source": [
    "\"hello\" + \"world\""
   ]
  },
  {
   "cell_type": "code",
   "execution_count": 3,
   "metadata": {},
   "outputs": [
    {
     "data": {
      "text/plain": [
       "68"
      ]
     },
     "execution_count": 3,
     "metadata": {},
     "output_type": "execute_result"
    }
   ],
   "source": [
    "x= 23\n",
    "y = 45\n",
    "x.__add__(y)"
   ]
  },
  {
   "cell_type": "code",
   "execution_count": null,
   "metadata": {},
   "outputs": [],
   "source": []
  }
 ],
 "metadata": {
  "kernelspec": {
   "display_name": "Python 3 (ipykernel)",
   "language": "python",
   "name": "python3"
  },
  "language_info": {
   "codemirror_mode": {
    "name": "ipython",
    "version": 3
   },
   "file_extension": ".py",
   "mimetype": "text/x-python",
   "name": "python",
   "nbconvert_exporter": "python",
   "pygments_lexer": "ipython3",
   "version": "3.9.13"
  }
 },
 "nbformat": 4,
 "nbformat_minor": 4
}
